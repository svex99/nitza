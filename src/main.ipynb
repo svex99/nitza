{
 "cells": [
  {
   "cell_type": "markdown",
   "metadata": {},
   "source": [
    "# Obtención de los datos\n",
    "\n",
    "Se colocó de forma manual cada receta del libro en un fichero de texto plano con un nombre único para cada una.\n",
    "\n",
    "Ventajas:\n",
    "- Dar un identificador único a cada receta.\n",
    "- Tener cada receta solo con el texto relacionado a ella, dígase ingredientes, consejos generales y pasos.\n",
    "- En el futuro si se tienen nuevas recetas solo es necesario añadirlas a la colección.\n",
    "\n",
    "Puede verse este conjunto de ficheros de texto como el libro en una forma mejor estructurada para el procesamiento individual de cada receta.\n",
    "\n",
    "A partir de aquí se desea crear un proceso capaz de identificar el tipo y cantidad de cada ingrediente involucrado para cada receta."
   ]
  },
  {
   "cell_type": "code",
   "execution_count": 1,
   "metadata": {},
   "outputs": [],
   "source": [
    "from pathlib import Path\n",
    "\n",
    "import spacy\n",
    "from sqlmodel import SQLModel, Session, create_engine\n",
    "\n",
    "from src.parsers import RecipesData, RecipeParser"
   ]
  },
  {
   "cell_type": "markdown",
   "metadata": {},
   "source": [
    "## Obtener texto de cada receta\n",
    "\n",
    "Para obtener el texto de cada receta se puede crear una instancia de la clase `RecipesData` y trabajar con ella de forma similar a un `dict`. Esta clase va a tener mapeado el nombre de cada fichero txt al texto ya parseado de la receta que contiene, esta información se maneja dentro de una instancia de `RecipeParser`.\n",
    "\n",
    "Se quiere extraer de cada receta:\n",
    "- nombre de la receta\n",
    "- recetas de las que depende\n",
    "- ingredientes\n",
    "- cantidad de raciones"
   ]
  },
  {
   "cell_type": "code",
   "execution_count": 2,
   "metadata": {},
   "outputs": [
    {
     "name": "stdout",
     "output_type": "stream",
     "text": [
      "Recipes for 'salsas': 13\n",
      "Recipes for 'ensalada y aliños': 24\n",
      "Recipes for 'pescados': 21\n",
      "Recipes for 'aves': 23\n",
      "Recipes for 'postres': 39\n",
      "Recipes for 'sopas': 24\n",
      "Recipes for 'cerales (arroz y maiz)': 27\n",
      "Recipes for 'viandas, hortalizas y otros vegetales': 37\n",
      "Recipes for 'carne de res': 26\n"
     ]
    },
    {
     "data": {
      "text/plain": [
       "RecipesData(recipes=234, empty=82, total=316)"
      ]
     },
     "execution_count": 2,
     "metadata": {},
     "output_type": "execute_result"
    }
   ],
   "source": [
    "data = RecipesData(Path(\"files/recipes/\"))\n",
    "data"
   ]
  },
  {
   "cell_type": "code",
   "execution_count": 13,
   "metadata": {},
   "outputs": [
    {
     "data": {
      "text/plain": [
       "Arroz con lentejas (8)\n",
       "id=None text='½ libra de lentejas' amount=0.0 measure='' food='' verified=False section=None recipe_id='arroz_lentejas'\n",
       "id=None text='1 libra de arroz' amount=0.0 measure='' food='' verified=False section=None recipe_id='arroz_lentejas'\n",
       "id=None text='4 tazas de agua' amount=0.0 measure='' food='' verified=False section=None recipe_id='arroz_lentejas'\n",
       "id=None text='2 ajíes' amount=0.0 measure='' food='' verified=False section=None recipe_id='arroz_lentejas'\n",
       "id=None text='¼ libra de tocino o beicon' amount=0.0 measure='' food='' verified=False section=None recipe_id='arroz_lentejas'\n",
       "id=None text='¼ taza de aceite' amount=0.0 measure='' food='' verified=False section=None recipe_id='arroz_lentejas'\n",
       "id=None text='½ libra de cebollas' amount=0.0 measure='' food='' verified=False section=None recipe_id='arroz_lentejas'\n",
       "id=None text='3 dientes de ajo' amount=0.0 measure='' food='' verified=False section=None recipe_id='arroz_lentejas'\n",
       "id=None text='1 hoja de laurel' amount=0.0 measure='' food='' verified=False section=None recipe_id='arroz_lentejas'\n",
       "id=None text='4 cucharaditas de sal' amount=0.0 measure='' food='' verified=False section=None recipe_id='arroz_lentejas'\n",
       "id=None text='¼ cucharadita de orégano' amount=0.0 measure='' food='' verified=False section=None recipe_id='arroz_lentejas'\n",
       "id=None text='¼ cucharadita de comino' amount=0.0 measure='' food='' verified=False section=None recipe_id='arroz_lentejas'\n",
       "id=None text='2½ tazas de caldo de lentejas' amount=0.0 measure='' food='' verified=False section=None recipe_id='arroz_lentejas'"
      ]
     },
     "execution_count": 13,
     "metadata": {},
     "output_type": "execute_result"
    }
   ],
   "source": [
    "data[\"arroz_lentejas\"]"
   ]
  },
  {
   "cell_type": "markdown",
   "metadata": {},
   "source": [
    "## Añadir las recetas a la BD\n",
    "\n",
    "El siguiente paso es añadir todas las recetas a la BD para luego poder modelar las relaciones de dependencia entre ellas.\n"
   ]
  },
  {
   "cell_type": "code",
   "execution_count": 14,
   "metadata": {},
   "outputs": [],
   "source": [
    "DB = \"files/database.db\"\n",
    "ENGINE = create_engine(f\"sqlite:///{DB}\")\n",
    "\n",
    "if not Path(DB).exists():\n",
    "    SQLModel.metadata.create_all(ENGINE)"
   ]
  },
  {
   "cell_type": "markdown",
   "metadata": {},
   "source": [
    "\n",
    "> Las recetas parseadas son accesible en el atributo `recipes` de la clase `RecipesData`."
   ]
  },
  {
   "cell_type": "code",
   "execution_count": 15,
   "metadata": {},
   "outputs": [],
   "source": [
    "with Session(ENGINE) as session:\n",
    "    for recipe in data.recipes:\n",
    "        recipe.save_to_db(session)\n",
    "    \n",
    "    session.commit()"
   ]
  },
  {
   "cell_type": "markdown",
   "metadata": {},
   "source": [
    "## Reconocimiento de entidades en los ingredientes\n",
    "\n",
    "Para obtener la información necesaria de los ingredientes en cada receta se emplea reconocimiento de entidades en texto. Para ello se anota un número importante de ingredientes en cuanto a los _tags_: `AMOUNT`, `MEASURE` y `FOOD`.\n",
    "\n",
    "> Para realizar las anotaciones fue empleado [Label Studio](https://labelstud.io/).\n",
    "\n",
    "Por ejemplo del ingrediente \"1 libra de arroz\" se deben obtener las entidades:\n",
    "\n",
    "- \"1\": `AMOUNT`\n",
    "- \"libra\": `MEASURE`\n",
    "- \"arroz\": `FOOD`\n",
    "\n",
    "Los datos anotados se emplearon para entrenar un modelo que se adapte al problema."
   ]
  },
  {
   "cell_type": "code",
   "execution_count": 41,
   "metadata": {},
   "outputs": [],
   "source": [
    "# with Path(\"files/ner-training.txt\").open(mode=\"w\", encoding=\"utf8\") as f:\n",
    "#     for recipe in data.recipes:\n",
    "#         for ingredient in recipe.ingredients:\n",
    "#             f.write(f\"{ingredient.text}\\n\") "
   ]
  },
  {
   "cell_type": "code",
   "execution_count": 8,
   "metadata": {},
   "outputs": [],
   "source": [
    "nlp = spacy.load(Path(\"files/nlp_model\"))"
   ]
  },
  {
   "cell_type": "code",
   "execution_count": 10,
   "metadata": {},
   "outputs": [
    {
     "name": "stdout",
     "output_type": "stream",
     "text": [
      "AMOUNT - None\n",
      "FOOD - None\n",
      "LOC - Non-GPE locations, mountain ranges, bodies of water\n",
      "MEASURE - None\n",
      "MISC - Miscellaneous entities, e.g. events, nationalities, products or works of art\n",
      "ORG - Companies, agencies, institutions, etc.\n",
      "PER - Named person or family.\n"
     ]
    }
   ],
   "source": [
    "for label in nlp.get_pipe(\"ner\").labels:\n",
    "    print(label, \"-\", spacy.explain(label))"
   ]
  },
  {
   "cell_type": "code",
   "execution_count": 11,
   "metadata": {},
   "outputs": [
    {
     "name": "stderr",
     "output_type": "stream",
     "text": [
      "/home/verdesia/5to/PD/nitza/env/lib/python3.9/site-packages/spacy/displacy/__init__.py:98: UserWarning: [W011] It looks like you're calling displacy.serve from within a Jupyter notebook or a similar environment. This likely means you're already running a local web server, so there's no need to make displaCy start another one. Instead, you should be able to replace displacy.serve with displacy.render to show the visualization.\n",
      "  warnings.warn(Warnings.W011)\n"
     ]
    },
    {
     "data": {
      "text/html": [
       "<span class=\"tex2jax_ignore\"><!DOCTYPE html>\n",
       "<html lang=\"es\">\n",
       "    <head>\n",
       "        <title>displaCy</title>\n",
       "    </head>\n",
       "\n",
       "    <body style=\"font-size: 16px; font-family: -apple-system, BlinkMacSystemFont, 'Segoe UI', Helvetica, Arial, sans-serif, 'Apple Color Emoji', 'Segoe UI Emoji', 'Segoe UI Symbol'; padding: 4rem 2rem; direction: ltr\">\n",
       "<figure style=\"margin-bottom: 6rem\">\n",
       "<svg xmlns=\"http://www.w3.org/2000/svg\" xmlns:xlink=\"http://www.w3.org/1999/xlink\" xml:lang=\"es\" id=\"e6722ffbf01447cc8e7306b0468484c9-0\" class=\"displacy\" width=\"750\" height=\"312.0\" direction=\"ltr\" style=\"max-width: none; height: 312.0px; color: #000000; background: #ffffff; font-family: Arial; direction: ltr\">\n",
       "<text class=\"displacy-token\" fill=\"currentColor\" text-anchor=\"middle\" y=\"222.0\">\n",
       "    <tspan class=\"displacy-word\" fill=\"currentColor\" x=\"50\">3</tspan>\n",
       "    <tspan class=\"displacy-tag\" dy=\"2em\" fill=\"currentColor\" x=\"50\">NUM</tspan>\n",
       "</text>\n",
       "\n",
       "<text class=\"displacy-token\" fill=\"currentColor\" text-anchor=\"middle\" y=\"222.0\">\n",
       "    <tspan class=\"displacy-word\" fill=\"currentColor\" x=\"225\">tazas</tspan>\n",
       "    <tspan class=\"displacy-tag\" dy=\"2em\" fill=\"currentColor\" x=\"225\">NOUN</tspan>\n",
       "</text>\n",
       "\n",
       "<text class=\"displacy-token\" fill=\"currentColor\" text-anchor=\"middle\" y=\"222.0\">\n",
       "    <tspan class=\"displacy-word\" fill=\"currentColor\" x=\"400\">de</tspan>\n",
       "    <tspan class=\"displacy-tag\" dy=\"2em\" fill=\"currentColor\" x=\"400\">ADP</tspan>\n",
       "</text>\n",
       "\n",
       "<text class=\"displacy-token\" fill=\"currentColor\" text-anchor=\"middle\" y=\"222.0\">\n",
       "    <tspan class=\"displacy-word\" fill=\"currentColor\" x=\"575\">arroz</tspan>\n",
       "    <tspan class=\"displacy-tag\" dy=\"2em\" fill=\"currentColor\" x=\"575\">NOUN</tspan>\n",
       "</text>\n",
       "\n",
       "<g class=\"displacy-arrow\">\n",
       "    <path class=\"displacy-arc\" id=\"arrow-e6722ffbf01447cc8e7306b0468484c9-0-0\" stroke-width=\"2px\" d=\"M70,177.0 C70,89.5 220.0,89.5 220.0,177.0\" fill=\"none\" stroke=\"currentColor\"/>\n",
       "    <text dy=\"1.25em\" style=\"font-size: 0.8em; letter-spacing: 1px\">\n",
       "        <textPath xlink:href=\"#arrow-e6722ffbf01447cc8e7306b0468484c9-0-0\" class=\"displacy-label\" startOffset=\"50%\" side=\"left\" fill=\"currentColor\" text-anchor=\"middle\">nummod</textPath>\n",
       "    </text>\n",
       "    <path class=\"displacy-arrowhead\" d=\"M70,179.0 L62,167.0 78,167.0\" fill=\"currentColor\"/>\n",
       "</g>\n",
       "\n",
       "<g class=\"displacy-arrow\">\n",
       "    <path class=\"displacy-arc\" id=\"arrow-e6722ffbf01447cc8e7306b0468484c9-0-1\" stroke-width=\"2px\" d=\"M420,177.0 C420,89.5 570.0,89.5 570.0,177.0\" fill=\"none\" stroke=\"currentColor\"/>\n",
       "    <text dy=\"1.25em\" style=\"font-size: 0.8em; letter-spacing: 1px\">\n",
       "        <textPath xlink:href=\"#arrow-e6722ffbf01447cc8e7306b0468484c9-0-1\" class=\"displacy-label\" startOffset=\"50%\" side=\"left\" fill=\"currentColor\" text-anchor=\"middle\">case</textPath>\n",
       "    </text>\n",
       "    <path class=\"displacy-arrowhead\" d=\"M420,179.0 L412,167.0 428,167.0\" fill=\"currentColor\"/>\n",
       "</g>\n",
       "\n",
       "<g class=\"displacy-arrow\">\n",
       "    <path class=\"displacy-arc\" id=\"arrow-e6722ffbf01447cc8e7306b0468484c9-0-2\" stroke-width=\"2px\" d=\"M245,177.0 C245,2.0 575.0,2.0 575.0,177.0\" fill=\"none\" stroke=\"currentColor\"/>\n",
       "    <text dy=\"1.25em\" style=\"font-size: 0.8em; letter-spacing: 1px\">\n",
       "        <textPath xlink:href=\"#arrow-e6722ffbf01447cc8e7306b0468484c9-0-2\" class=\"displacy-label\" startOffset=\"50%\" side=\"left\" fill=\"currentColor\" text-anchor=\"middle\">nmod</textPath>\n",
       "    </text>\n",
       "    <path class=\"displacy-arrowhead\" d=\"M575.0,179.0 L583.0,167.0 567.0,167.0\" fill=\"currentColor\"/>\n",
       "</g>\n",
       "</svg>\n",
       "</figure>\n",
       "</body>\n",
       "</html></span>"
      ],
      "text/plain": [
       "<IPython.core.display.HTML object>"
      ]
     },
     "metadata": {},
     "output_type": "display_data"
    },
    {
     "name": "stdout",
     "output_type": "stream",
     "text": [
      "\n",
      "Using the 'dep' visualizer\n",
      "Serving on http://0.0.0.0:5000 ...\n",
      "\n",
      "Shutting down server on port 5000.\n"
     ]
    },
    {
     "data": {
      "text/html": [
       "<span class=\"tex2jax_ignore\"><!DOCTYPE html>\n",
       "<html lang=\"es\">\n",
       "    <head>\n",
       "        <title>displaCy</title>\n",
       "    </head>\n",
       "\n",
       "    <body style=\"font-size: 16px; font-family: -apple-system, BlinkMacSystemFont, 'Segoe UI', Helvetica, Arial, sans-serif, 'Apple Color Emoji', 'Segoe UI Emoji', 'Segoe UI Symbol'; padding: 4rem 2rem; direction: ltr\">\n",
       "<figure style=\"margin-bottom: 6rem\">\n",
       "<svg xmlns=\"http://www.w3.org/2000/svg\" xmlns:xlink=\"http://www.w3.org/1999/xlink\" xml:lang=\"es\" id=\"75a317e7c4044b89852dbf7df0fc535d-0\" class=\"displacy\" width=\"750\" height=\"312.0\" direction=\"ltr\" style=\"max-width: none; height: 312.0px; color: #000000; background: #ffffff; font-family: Arial; direction: ltr\">\n",
       "<text class=\"displacy-token\" fill=\"currentColor\" text-anchor=\"middle\" y=\"222.0\">\n",
       "    <tspan class=\"displacy-word\" fill=\"currentColor\" x=\"50\">2½</tspan>\n",
       "    <tspan class=\"displacy-tag\" dy=\"2em\" fill=\"currentColor\" x=\"50\">NUM</tspan>\n",
       "</text>\n",
       "\n",
       "<text class=\"displacy-token\" fill=\"currentColor\" text-anchor=\"middle\" y=\"222.0\">\n",
       "    <tspan class=\"displacy-word\" fill=\"currentColor\" x=\"225\">tazas</tspan>\n",
       "    <tspan class=\"displacy-tag\" dy=\"2em\" fill=\"currentColor\" x=\"225\">NOUN</tspan>\n",
       "</text>\n",
       "\n",
       "<text class=\"displacy-token\" fill=\"currentColor\" text-anchor=\"middle\" y=\"222.0\">\n",
       "    <tspan class=\"displacy-word\" fill=\"currentColor\" x=\"400\">de</tspan>\n",
       "    <tspan class=\"displacy-tag\" dy=\"2em\" fill=\"currentColor\" x=\"400\">ADP</tspan>\n",
       "</text>\n",
       "\n",
       "<text class=\"displacy-token\" fill=\"currentColor\" text-anchor=\"middle\" y=\"222.0\">\n",
       "    <tspan class=\"displacy-word\" fill=\"currentColor\" x=\"575\">agua</tspan>\n",
       "    <tspan class=\"displacy-tag\" dy=\"2em\" fill=\"currentColor\" x=\"575\">NOUN</tspan>\n",
       "</text>\n",
       "\n",
       "<g class=\"displacy-arrow\">\n",
       "    <path class=\"displacy-arc\" id=\"arrow-75a317e7c4044b89852dbf7df0fc535d-0-0\" stroke-width=\"2px\" d=\"M70,177.0 C70,89.5 220.0,89.5 220.0,177.0\" fill=\"none\" stroke=\"currentColor\"/>\n",
       "    <text dy=\"1.25em\" style=\"font-size: 0.8em; letter-spacing: 1px\">\n",
       "        <textPath xlink:href=\"#arrow-75a317e7c4044b89852dbf7df0fc535d-0-0\" class=\"displacy-label\" startOffset=\"50%\" side=\"left\" fill=\"currentColor\" text-anchor=\"middle\">nummod</textPath>\n",
       "    </text>\n",
       "    <path class=\"displacy-arrowhead\" d=\"M70,179.0 L62,167.0 78,167.0\" fill=\"currentColor\"/>\n",
       "</g>\n",
       "\n",
       "<g class=\"displacy-arrow\">\n",
       "    <path class=\"displacy-arc\" id=\"arrow-75a317e7c4044b89852dbf7df0fc535d-0-1\" stroke-width=\"2px\" d=\"M420,177.0 C420,89.5 570.0,89.5 570.0,177.0\" fill=\"none\" stroke=\"currentColor\"/>\n",
       "    <text dy=\"1.25em\" style=\"font-size: 0.8em; letter-spacing: 1px\">\n",
       "        <textPath xlink:href=\"#arrow-75a317e7c4044b89852dbf7df0fc535d-0-1\" class=\"displacy-label\" startOffset=\"50%\" side=\"left\" fill=\"currentColor\" text-anchor=\"middle\">case</textPath>\n",
       "    </text>\n",
       "    <path class=\"displacy-arrowhead\" d=\"M420,179.0 L412,167.0 428,167.0\" fill=\"currentColor\"/>\n",
       "</g>\n",
       "\n",
       "<g class=\"displacy-arrow\">\n",
       "    <path class=\"displacy-arc\" id=\"arrow-75a317e7c4044b89852dbf7df0fc535d-0-2\" stroke-width=\"2px\" d=\"M245,177.0 C245,2.0 575.0,2.0 575.0,177.0\" fill=\"none\" stroke=\"currentColor\"/>\n",
       "    <text dy=\"1.25em\" style=\"font-size: 0.8em; letter-spacing: 1px\">\n",
       "        <textPath xlink:href=\"#arrow-75a317e7c4044b89852dbf7df0fc535d-0-2\" class=\"displacy-label\" startOffset=\"50%\" side=\"left\" fill=\"currentColor\" text-anchor=\"middle\">nmod</textPath>\n",
       "    </text>\n",
       "    <path class=\"displacy-arrowhead\" d=\"M575.0,179.0 L583.0,167.0 567.0,167.0\" fill=\"currentColor\"/>\n",
       "</g>\n",
       "</svg>\n",
       "</figure>\n",
       "</body>\n",
       "</html></span>"
      ],
      "text/plain": [
       "<IPython.core.display.HTML object>"
      ]
     },
     "metadata": {},
     "output_type": "display_data"
    },
    {
     "name": "stdout",
     "output_type": "stream",
     "text": [
      "\n",
      "Using the 'dep' visualizer\n",
      "Serving on http://0.0.0.0:5000 ...\n",
      "\n"
     ]
    }
   ],
   "source": [
    "from spacy import displacy\n",
    "for ing in data[\"arroz_frito\"].ingredients:\n",
    "    doc = nlp(ing.text)\n",
    "    displacy.serve(doc)\n",
    "\n",
    "    # print(\n",
    "    #     [(e, e.label_) for e in doc.ents], [\n",
    "    #     f\"{token.text}:{token.lemma_}\"\n",
    "    #     if token.text != token.lemma_\n",
    "    #     else token.text\n",
    "    #     for token in doc\n",
    "    # ])"
   ]
  },
  {
   "cell_type": "code",
   "execution_count": 10,
   "metadata": {},
   "outputs": [
    {
     "data": {
      "text/plain": [
       "[(¼, 'MEASURE'), (taza de vino, 'FOOD')]"
      ]
     },
     "execution_count": 10,
     "metadata": {},
     "output_type": "execute_result"
    }
   ],
   "source": [
    "doc = nlp(\"¼ de taza de vino seco\")\n",
    "[(e, e.label_) for e in doc.ents]"
   ]
  }
 ],
 "metadata": {
  "interpreter": {
   "hash": "3d2c711ab7c12395f5eadf95e374e0031e34458c82c61b5179720a31a96b5d7b"
  },
  "kernelspec": {
   "display_name": "Python 3.9.5 ('env': venv)",
   "language": "python",
   "name": "python3"
  },
  "language_info": {
   "codemirror_mode": {
    "name": "ipython",
    "version": 3
   },
   "file_extension": ".py",
   "mimetype": "text/x-python",
   "name": "python",
   "nbconvert_exporter": "python",
   "pygments_lexer": "ipython3",
   "version": "3.9.5"
  },
  "orig_nbformat": 4
 },
 "nbformat": 4,
 "nbformat_minor": 2
}
